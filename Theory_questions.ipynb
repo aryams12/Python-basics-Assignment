{
  "nbformat": 4,
  "nbformat_minor": 0,
  "metadata": {
    "colab": {
      "provenance": []
    },
    "kernelspec": {
      "name": "python3",
      "display_name": "Python 3"
    },
    "language_info": {
      "name": "python"
    }
  },
  "cells": [
    {
      "cell_type": "markdown",
      "source": [
        "1) What is Python, and why is it popular?\n",
        "\n",
        "    Python is a high-level, interpreted programming language known for its simple syntax and readability. It's popular because it's easy to learn, supports multiple programming paradigms (like procedural, object-oriented, and functional), and has a vast standard library and community support."
      ],
      "metadata": {
        "id": "J0t6mRy7shGY"
      }
    },
    {
      "cell_type": "markdown",
      "source": [
        "2) What is an interpreter in Python?\n",
        "\n",
        "    An interpreter in Python is a program that reads and executes Python code line by line. It translates Python code into machine code so the computer can run it."
      ],
      "metadata": {
        "id": "NwDaVVhxswtf"
      }
    },
    {
      "cell_type": "markdown",
      "source": [
        "3) What are pre-defined keywords in Python?\n",
        "\n",
        "    Pre-defined keywords are reserved words in Python that have special meanings and purposes, like if, for, while, class, def, True, and None. They cannot be used for variable names."
      ],
      "metadata": {
        "id": "4d2UAXa2s2uG"
      }
    },
    {
      "cell_type": "markdown",
      "source": [
        "4) Can keywords be used as variable names?\n",
        "\n",
        "    No, keywords cannot be used as variable names in Python because they are reserved for specific functions in the language."
      ],
      "metadata": {
        "id": "Fe3mJi9ys_kx"
      }
    },
    {
      "cell_type": "markdown",
      "source": [
        "5) What is mutability in Python?\n",
        "\n",
        "    Mutability refers to whether or not an object can be changed after it is created. Mutable objects can be changed (like lists), while immutable ones cannot (like tuples or strings)."
      ],
      "metadata": {
        "id": "5uKh6cbvtE5Y"
      }
    },
    {
      "cell_type": "markdown",
      "source": [
        "6) Why are lists mutable, but tuples are immutable?\n",
        "\n",
        "    Lists are mutable because their elements can be added, removed, or changed. Tuples are immutable by design to ensure data integrity and improve performance in situations where fixed data is needed."
      ],
      "metadata": {
        "id": "8BeHhbyAtJgg"
      }
    },
    {
      "cell_type": "markdown",
      "source": [
        "7)  What is the difference between “==” and “is” operators in Python?\n",
        "\n",
        "    == checks if two values are equal.\n",
        "\n",
        "    is checks if two variables point to the same object in memory."
      ],
      "metadata": {
        "id": "TIrx2Y4btOZr"
      }
    },
    {
      "cell_type": "markdown",
      "source": [
        "8)  What are logical operators in Python?\n",
        "    Logical operators are used to combine conditional statements:\n",
        "\n",
        "    and (True if both are true)\n",
        "\n",
        "    or (True if at least one is true)\n",
        "\n",
        "    not (reverses the result)"
      ],
      "metadata": {
        "id": "z72z9WtEtmCR"
      }
    },
    {
      "cell_type": "markdown",
      "source": [
        "9) What is type casting in Python?  \n",
        "\n",
        "    Type casting is the process of converting one data type to another, such as turning an integer into a string using str() or a float using float()."
      ],
      "metadata": {
        "id": "4V8i0-uVt1bt"
      }
    },
    {
      "cell_type": "markdown",
      "source": [
        "10) What is the difference between implicit and explicit type casting?\n",
        "\n",
        "\n",
        "    Implicit casting: Done automatically by Python (e.g., int + float becomes float).\n",
        "\n",
        "    Explicit casting: Done manually by the programmer using functions like int(), str(), or float()."
      ],
      "metadata": {
        "id": "81EugIVct9Dl"
      }
    },
    {
      "cell_type": "markdown",
      "source": [
        "11) What is the purpose of conditional statements in Python?\n",
        "\n",
        "    Conditional statements allow a program to make decisions and execute different blocks of code depending on whether conditions are true or false (using if, elif, else)."
      ],
      "metadata": {
        "id": "RBiOf_N8uJ1N"
      }
    },
    {
      "cell_type": "markdown",
      "source": [
        "12) How does the elif statement work?\n",
        "\n",
        "    The elif (short for \"else if\") checks another condition if the previous if statement is false. It allows multiple conditions to be tested sequentially."
      ],
      "metadata": {
        "id": "831ijrlruQtw"
      }
    },
    {
      "cell_type": "markdown",
      "source": [
        "13) What is the difference between for and while loops?\n",
        "\n",
        "    for loop: Used when you know beforehand how many times you want to loop (usually over a sequence).\n",
        "\n",
        "    while loop: Used when you want to loop until a condition becomes false."
      ],
      "metadata": {
        "id": "2VclFS76uT0c"
      }
    },
    {
      "cell_type": "markdown",
      "source": [
        "14)  Describe a scenario where a while loop is more suitable than a for loop ?\n",
        "\n",
        "    A while loop is more suitable when you don’t know in advance how many times the loop should run, and you want to continue looping based on a condition being true.\n",
        "\n",
        "    Example Scenario:\n",
        "\n",
        "    You are creating a login system that keeps asking for a correct password until the user enters it correctly.\n",
        "\n",
        "    correct_password = \"python123\"\n",
        "    user_input = \"\"\n",
        "\n",
        "    while user_input != correct_password:\n",
        "    user_input = input(\"Enter your password: \")\n",
        "\n",
        "    print(\"Access granted!\")\n",
        "\n",
        "    Why while is better here:\n",
        "\n",
        "    You don’t know how many attempts the user will need.\n",
        "\n",
        "    The loop should continue until the correct password is entered, not for a fixed number of times.\n",
        "\n",
        "    In contrast, a for loop is generally used when the number of iterations is known, such as looping through a list or running a loop 10 times."
      ],
      "metadata": {
        "id": "zQHxhU3huXIZ"
      }
    },
    {
      "cell_type": "markdown",
      "source": [],
      "metadata": {
        "id": "Wri_yrE_ut3D"
      }
    }
  ]
}